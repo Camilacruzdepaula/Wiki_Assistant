{
  "nbformat": 4,
  "nbformat_minor": 0,
  "metadata": {
    "colab": {
      "provenance": []
    },
    "kernelspec": {
      "name": "python3",
      "display_name": "Python 3"
    },
    "language_info": {
      "name": "python"
    },
    "gpuClass": "standard"
  },
  "cells": [
    {
      "cell_type": "code",
      "execution_count": null,
      "metadata": {
        "id": "ghhwFv3vC4Be",
        "colab": {
          "base_uri": "https://localhost:8080/"
        },
        "outputId": "c25edab6-8b02-49e1-c780-03951ea3d161"
      },
      "outputs": [
        {
          "output_type": "stream",
          "name": "stdout",
          "text": [
            "Installing collected packages: PyJWT, twilio\n",
            "Successfully installed PyJWT-2.6.0 twilio-7.15.3\n"
          ]
        }
      ],
      "source": [
        "!pip install pyngrok\n",
        "!pip install twilio"
      ]
    },
    {
      "cell_type": "code",
      "source": [
        "import pandas as pd\n",
        "import re"
      ],
      "metadata": {
        "id": "lg6OCQ6qWmtq"
      },
      "execution_count": null,
      "outputs": []
    },
    {
      "cell_type": "code",
      "source": [
        "from google.colab import drive\n",
        "drive.mount('/content/gdrive')"
      ],
      "metadata": {
        "colab": {
          "base_uri": "https://localhost:8080/"
        },
        "id": "yS0QBUD_Er6r",
        "outputId": "2fbab7da-f9af-46bf-b2ac-888decbb17be"
      },
      "execution_count": null,
      "outputs": [
        {
          "output_type": "stream",
          "name": "stdout",
          "text": [
            "Drive already mounted at /content/gdrive; to attempt to forcibly remount, call drive.mount(\"/content/gdrive\", force_remount=True).\n"
          ]
        }
      ]
    },
    {
      "cell_type": "code",
      "source": [
        "%cd \"/content/gdrive/MyDrive/Colab Notebooks\"\n",
        "%run 'c01_proces_texto_en.ipynb'\n",
        "%run 'c02_pipeline_roberta.ipynb'"
      ],
      "metadata": {
        "id": "3Ol8pNS0HFBG"
      },
      "execution_count": null,
      "outputs": []
    },
    {
      "cell_type": "code",
      "source": [
        "from flask import Flask, render_template , request\n",
        "from twilio.twiml.messaging_response import MessagingResponse\n",
        "\n",
        "from flask_ngrok import run_with_ngrok"
      ],
      "metadata": {
        "id": "MilGZGfLD0Ce"
      },
      "execution_count": null,
      "outputs": []
    },
    {
      "cell_type": "code",
      "source": [
        "app_transformers = Flask(__name__)\n",
        " \n",
        "run_with_ngrok(app_transformers)\n",
        "\n",
        "@app_transformers.route(\"/\", methods=['POST'])\n",
        "def respuesta_mensaje_wp():\n",
        "    \n",
        "    # Mensaje que se lee\n",
        "    msg = request.form.get('Body') # Reading the message from the whatsapp\n",
        "    print(\"msg-->\",msg)\n",
        "    \n",
        "    # Respuesta del modelo\n",
        "    resp = MessagingResponse()\n",
        "    reply = resp.message()\n",
        "\n",
        "    # Create reply\n",
        "    if msg.lower() in [\"hi\", 'hola']:\n",
        "       reply.body(\"Hello 😊 I am Atenea, your virtual assistant from Wikipedia. What topic would you like to consult?\")\n",
        "\n",
        "    else:\n",
        "\n",
        "      if ('?' not in msg) and ('topic' not in msg):       \n",
        "              \n",
        "        texto = procesamiento_tema(msg)\n",
        "        texto = pd.Series(texto)\n",
        "        texto.to_csv('texto_procesado.txt')  \n",
        "\n",
        "        reply.body(\"What would you like to know?\")\n",
        "\n",
        "      if '?' in msg: \n",
        "\n",
        "        texto = pd.read_csv('texto_procesado.txt')      \n",
        "        texto = texto['0'][0] \n",
        "        \n",
        "        respuesta = modelo_roberta_pipeline(msg, texto)\n",
        "        respuesta = re.sub(' \\(score.*','', respuesta)\n",
        "        print(respuesta)\n",
        "        reply.body(respuesta)\n",
        "    \n",
        "      if 'change the topic' in msg:       \n",
        "\n",
        "        reply.body(\"Of course😊, What other topic would you like to consult?\")\n",
        "\n",
        "    return str(resp)\n",
        " \n",
        "if __name__ == \"__main__\":\t\n",
        "    app_transformers.run()"
      ],
      "metadata": {
        "id": "p-YMam12EqyU"
      },
      "execution_count": null,
      "outputs": []
    }
  ]
}